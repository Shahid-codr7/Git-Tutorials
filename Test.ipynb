{
 "cells": [
  {
   "cell_type": "markdown",
   "metadata": {},
   "source": [
    "# CSE 2794 - Machine Learning Workshop 2\n",
    "## Lab Assignment 6: Object Detection and Segmentation using YOLOv8\n",
    "\n",
    "This notebook implements the tasks for Lab Assignment 6, including:\n",
    "- Task 1: Object Detection using YOLOv8 on images\n",
    "- Task 2: Instance Segmentation using YOLOv8 on images\n",
    "\n",
    "### Requirements\n",
    "- Python 3.x\n",
    "- Libraries: ultralytics, opencv-python, numpy, matplotlib\n",
    "- Pre-trained YOLOv8 models (downloaded automatically by ultralytics)\n",
    "- Sample images (place in a folder named 'images' in the same directory)\n",
    "\n",
    "### Setup Instructions\n",
    "1. Install required libraries:\n",
    "   ```bash\n",
    "   pip install ultralytics opencv-python numpy matplotlib\n",
    "   ```\n",
    "2. Create an 'images' folder and add a few images containing everyday objects (e.g., 'image1.jpg', 'image2.jpg').\n",
    "3. Run the cells below to perform object detection and segmentation."
   ]
  },
  {
   "cell_type": "markdown",
   "metadata": {},
   "source": [
    "## Task 1: Loading and Running YOLOv8 for Object Detection"
   ]
  },
  {
   "cell_type": "code",
   "execution_count": null,
   "metadata": {},
   "outputs": [],
   "source": [
    "# Import required libraries\n",
    "from ultralytics import YOLO\n",
    "import cv2\n",
    "import matplotlib.pyplot as plt\n",
    "import os\n",
    "\n",
    "# Create output directory if it doesn't exist\n",
    "if not os.path.exists('output'):\n",
    "    os.makedirs('output')\n",
    "\n",
    "# Load the pre-trained YOLOv8 object detection model\n",
    "model = YOLO('yolov8n.pt')  # 'yolov8n' is the nano model, lightweight and fast\n",
    "\n",
    "# List of images to process (add your image paths here)\n",
    "image_paths = ['images/image1.jpg', 'images/image2.jpg']  # Update with your image names\n",
    "\n",
    "for img_path in image_paths:\n",
    "    # Read the image\n",
    "    img = cv2.imread(img_path)\n",
    "    if img is None:\n",
    "        print(f\"Failed to load image: {img_path}\")\n",
    "        continue\n",
    "    \n",
    "    # Convert BGR to RGB for display\n",
    "    img_rgb = cv2.cvtColor(img, cv2.COLOR_BGR2RGB)\n",
    "    \n",
    "    # Run inference\n",
    "    results = model(img_rgb)\n",
    "    \n",
    "    # Plot the results\n",
    "    annotated_img = results[0].plot()  # Draw bounding boxes and labels\n",
    "    \n",
    "    # Display the image\n",
    "    plt.figure(figsize=(10, 8))\n",
    "    plt.imshow(annotated_img)\n",
    "    plt.axis('off')\n",
    "    plt.title(f'Object Detection - {os.path.basename(img_path)}')\n",
    "    plt.show()\n",
    "    \n",
    "    # Save the output image\n",
    "    output_path = f'output/detected_{os.path.basename(img_path)}'\n",
    "    cv2.imwrite(output_path, cv2.cvtColor(annotated_img, cv2.COLOR_RGB2BGR))\n",
    "    print(f'Saved output to {output_path}')"
   ]
  },
  {
   "cell_type": "markdown",
   "metadata": {},
   "source": [
    "## Task 2: Instance Segmentation using YOLOv8"
   ]
  },
  {
   "cell_type": "code",
   "execution_count": null,
   "metadata": {},
   "outputs": [],
   "source": [
    "# Load the pre-trained YOLOv8 segmentation model\n",
    "seg_model = YOLO('yolov8n-seg.pt')  # 'yolov8n-seg' is the nano segmentation model\n",
    "\n",
    "for img_path in image_paths:\n",
    "    # Read the image\n",
    "    img = cv2.imread(img_path)\n",
    "    if img is None:\n",
    "        print(f\"Failed to load image: {img_path}\")\n",
    "        continue\n",
    "    \n",
    "    # Convert BGR to RGB for display\n",
    "    img_rgb = cv2.cvtColor(img, cv2.COLOR_BGR2RGB)\n",
    "    \n",
    "    # Run inference for segmentation\n",
    "    results = seg_model(img_rgb)\n",
    "    \n",
    "    # Plot the segmentation results\n",
    "    annotated_img = results[0].plot()  # Draw masks and labels\n",
    "    \n",
    "    # Display the image\n",
    "    plt.figure(figsize=(10, 8))\n",
    "    plt.imshow(annotated_img)\n",
    "    plt.axis('off')\n",
    "    plt.title(f'Instance Segmentation - {os.path.basename(img_path)}')\n",
    "    plt.show()\n",
    "    \n",
    "    # Save the output image\n",
    "    output_path = f'output/segmented_{os.path.basename(img_path)}'\n",
    "    cv2.imwrite(output_path, cv2.cvtColor(annotated_img, cv2.COLOR_RGB2BGR))\n",
    "    print(f'Saved output to {output_path}')"
   ]
  },
  {
   "cell_type": "markdown",
   "metadata": {},
   "source": [
    "## Conclusion\n",
    "\n",
    "In this lab, we successfully implemented:\n",
    "1. **Object Detection**: Loaded a pre-trained YOLOv8 model (`yolov8n.pt`) and performed inference on sample images, displaying and saving the results with bounding boxes and labels.\n",
    "2. **Instance Segmentation**: Used a pre-trained YOLOv8 segmentation model (`yolov8n-seg.pt`) to segment objects in the same images, displaying and saving the results with masks.\n",
    "\n",
    "The YOLOv8 models demonstrated efficient and accurate performance for both tasks. The nano models (`yolov8n`) were chosen for their lightweight nature, suitable for educational purposes. Potential improvements include training custom YOLOv8 models for specific datasets or experimenting with larger models (e.g., `yolov8m`, `yolov8l`) for higher accuracy.\n",
    "\n",
    "**Student Name**: [Your Name]  \n",
    "**Reg. No**: [Your Registration Number]"
   ]
  }
 ],
 "metadata": {
  "kernelspec": {
   "display_name": "Python 3",
   "language": "python",
   "name": "python3"
  },
  "language_info": {
   "codemirror_mode": {
    "name": "ipython",
    "version": 3
   },
   "file_extension": ".py",
   "mimetype": "text/x-python",
   "name": "python",
   "nbconvert_exporter": "python",
   "pygments_lexer": "ipython3",
   "version": "3.8.0"
  }
 },
 "nbformat": 4,
 "nbformat_minor": 4
}
